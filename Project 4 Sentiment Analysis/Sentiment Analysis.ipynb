{
 "cells": [
  {
   "cell_type": "markdown",
   "metadata": {},
   "source": [
    "We will collect text data using Twitter API."
   ]
  },
  {
   "cell_type": "code",
   "execution_count": 1,
   "metadata": {},
   "outputs": [
    {
     "name": "stdout",
     "output_type": "stream",
     "text": [
      "Collecting tweepy\n",
      "  Downloading tweepy-3.10.0-py2.py3-none-any.whl (30 kB)\n",
      "Collecting requests-oauthlib>=0.7.0\n",
      "  Using cached requests_oauthlib-1.3.0-py2.py3-none-any.whl (23 kB)\n",
      "Requirement already satisfied: six>=1.10.0 in c:\\programdata\\anaconda3\\lib\\site-packages (from tweepy) (1.14.0)\n",
      "Requirement already satisfied: requests[socks]>=2.11.1 in c:\\programdata\\anaconda3\\lib\\site-packages (from tweepy) (2.22.0)\n",
      "Collecting oauthlib>=3.0.0\n",
      "  Using cached oauthlib-3.1.0-py2.py3-none-any.whl (147 kB)\n",
      "Requirement already satisfied: certifi>=2017.4.17 in c:\\programdata\\anaconda3\\lib\\site-packages (from requests[socks]>=2.11.1->tweepy) (2019.11.28)\n",
      "Requirement already satisfied: idna<2.9,>=2.5 in c:\\programdata\\anaconda3\\lib\\site-packages (from requests[socks]>=2.11.1->tweepy) (2.8)\n",
      "Requirement already satisfied: chardet<3.1.0,>=3.0.2 in c:\\programdata\\anaconda3\\lib\\site-packages (from requests[socks]>=2.11.1->tweepy) (3.0.4)\n",
      "Requirement already satisfied: urllib3!=1.25.0,!=1.25.1,<1.26,>=1.21.1 in c:\\programdata\\anaconda3\\lib\\site-packages (from requests[socks]>=2.11.1->tweepy) (1.25.8)\n",
      "Requirement already satisfied: PySocks!=1.5.7,>=1.5.6; extra == \"socks\" in c:\\programdata\\anaconda3\\lib\\site-packages (from requests[socks]>=2.11.1->tweepy) (1.7.1)\n",
      "Installing collected packages: oauthlib, requests-oauthlib, tweepy\n",
      "Successfully installed oauthlib-3.1.0 requests-oauthlib-1.3.0 tweepy-3.10.0\n"
     ]
    }
   ],
   "source": [
    "!pip install tweepy"
   ]
  },
  {
   "cell_type": "code",
   "execution_count": 2,
   "metadata": {},
   "outputs": [
    {
     "name": "stdout",
     "output_type": "stream",
     "text": [
      "Requirement already satisfied: openpyxl in c:\\programdata\\anaconda3\\lib\\site-packages (3.0.3)\n",
      "Requirement already satisfied: jdcal in c:\\programdata\\anaconda3\\lib\\site-packages (from openpyxl) (1.4.1)\n",
      "Requirement already satisfied: et-xmlfile in c:\\programdata\\anaconda3\\lib\\site-packages (from openpyxl) (1.0.1)\n"
     ]
    }
   ],
   "source": [
    "!pip install openpyxl"
   ]
  },
  {
   "cell_type": "code",
   "execution_count": 3,
   "metadata": {},
   "outputs": [],
   "source": [
    "import numpy as np\n",
    "import pandas as pd\n",
    "import tweepy\n",
    "import json\n",
    "from tweepy import OAuthHandler"
   ]
  },
  {
   "cell_type": "markdown",
   "metadata": {},
   "source": [
    "# Initializing Twitter API"
   ]
  },
  {
   "cell_type": "code",
   "execution_count": 4,
   "metadata": {},
   "outputs": [],
   "source": [
    "consumer_key =\"blNt9nEmE48NaD1rEk7tf73Xh\"\n",
    "consumer_secret =\"tu2BIF4XiRtvl24uGA7MY9a7r3sRL3k3jcFD8jSo4H90uoGNkJ\"\n",
    "access_token =\"1360881263679135745-w3pT5CLx2uCf7D7F1IfHAvzW6AgOYc\"\n",
    "access_token_secret =\"FH1Q8OsUWgPDZV3tJxyuR49nIictTEqX0W1VYWxUWntJu\""
   ]
  },
  {
   "cell_type": "code",
   "execution_count": 5,
   "metadata": {},
   "outputs": [],
   "source": [
    "auth = tweepy.OAuthHandler( consumer_key , consumer_secret )\n",
    "auth.set_access_token( access_token , access_token_secret )\n",
    "api = tweepy.API(auth)"
   ]
  },
  {
   "cell_type": "code",
   "execution_count": 6,
   "metadata": {},
   "outputs": [],
   "source": [
    "query = \"Narendra Modi Prime Minister\""
   ]
  },
  {
   "cell_type": "code",
   "execution_count": 7,
   "metadata": {},
   "outputs": [],
   "source": [
    "Tweets = api.search( query , count=10 , lang='en' , exclude='retweets' , tweet_mode='extended' )\n",
    "# tweet_mode='extended'\n",
    "# tweet_mode='compat'\n",
    "\n",
    "# for tweet in Tweets:\n",
    "#     print(tweet,\"\\n\")\n",
    "#     print(\".....................................\\n\")"
   ]
  },
  {
   "cell_type": "markdown",
   "metadata": {},
   "source": [
    "## Creating Dataframe by fetching data using tweepy"
   ]
  },
  {
   "cell_type": "code",
   "execution_count": 8,
   "metadata": {},
   "outputs": [
    {
     "name": "stdout",
     "output_type": "stream",
     "text": [
      "Empty DataFrame\n",
      "Columns: [Tweets, User, User_statuses_count, user_followers, User_location, User_verified, fav_count, rt_count, tweet_date]\n",
      "Index: []\n"
     ]
    }
   ],
   "source": [
    "df = pd.DataFrame(columns = ['Tweets' , 'User' , 'User_statuses_count' , \n",
    "                            'user_followers' , 'User_location' , 'User_verified' ,\n",
    "                            'fav_count' , 'rt_count' , 'tweet_date'] )\n",
    "print(df)\n",
    "# print(df.shape)"
   ]
  },
  {
   "cell_type": "code",
   "execution_count": 9,
   "metadata": {},
   "outputs": [],
   "source": [
    "def stream(data, file_name):\n",
    "    i = 0\n",
    "    for tweet in tweepy.Cursor(api.search, q=data, count=100, lang='en').items():\n",
    "        print(i, end='\\r')\n",
    "        df.loc[i, 'Tweets'] = tweet.text\n",
    "        df.loc[i, 'User'] = tweet.user.name\n",
    "        df.loc[i, 'User_statuses_count'] = tweet.user.statuses_count\n",
    "        df.loc[i, 'user_followers'] = tweet.user.followers_count\n",
    "        df.loc[i, 'User_location'] = tweet.user.location\n",
    "        df.loc[i, 'User_verified'] = tweet.user.verified\n",
    "        df.loc[i, 'fav_count'] = tweet.favorite_count\n",
    "        df.loc[i, 'rt_count'] = tweet.retweet_count\n",
    "        df.loc[i, 'tweet_date'] = tweet.created_at\n",
    "        df.to_excel('{}.xlsx'.format(file_name))\n",
    "        i = i+1\n",
    "        if i == 1000:\n",
    "            break\n",
    "        else:\n",
    "            pass"
   ]
  },
  {
   "cell_type": "code",
   "execution_count": 10,
   "metadata": {},
   "outputs": [
    {
     "name": "stdout",
     "output_type": "stream",
     "text": [
      "999\r"
     ]
    }
   ],
   "source": [
    "stream(data=[query] , file_name='my_tweets')"
   ]
  },
  {
   "cell_type": "code",
   "execution_count": 11,
   "metadata": {},
   "outputs": [
    {
     "data": {
      "text/html": [
       "<div>\n",
       "<style scoped>\n",
       "    .dataframe tbody tr th:only-of-type {\n",
       "        vertical-align: middle;\n",
       "    }\n",
       "\n",
       "    .dataframe tbody tr th {\n",
       "        vertical-align: top;\n",
       "    }\n",
       "\n",
       "    .dataframe thead th {\n",
       "        text-align: right;\n",
       "    }\n",
       "</style>\n",
       "<table border=\"1\" class=\"dataframe\">\n",
       "  <thead>\n",
       "    <tr style=\"text-align: right;\">\n",
       "      <th></th>\n",
       "      <th>Tweets</th>\n",
       "      <th>User</th>\n",
       "      <th>User_statuses_count</th>\n",
       "      <th>user_followers</th>\n",
       "      <th>User_location</th>\n",
       "      <th>User_verified</th>\n",
       "      <th>fav_count</th>\n",
       "      <th>rt_count</th>\n",
       "      <th>tweet_date</th>\n",
       "    </tr>\n",
       "  </thead>\n",
       "  <tbody>\n",
       "    <tr>\n",
       "      <th>0</th>\n",
       "      <td>RT @Satirical_Dhruv: Without any degree I am a...</td>\n",
       "      <td>Raju K Pahuchungia</td>\n",
       "      <td>13470</td>\n",
       "      <td>892</td>\n",
       "      <td>India</td>\n",
       "      <td>False</td>\n",
       "      <td>0</td>\n",
       "      <td>626</td>\n",
       "      <td>2021-05-27 13:59:14</td>\n",
       "    </tr>\n",
       "    <tr>\n",
       "      <th>1</th>\n",
       "      <td>RT @Satirical_Dhruv: Without any degree I am a...</td>\n",
       "      <td>@UnitedIndians</td>\n",
       "      <td>41640</td>\n",
       "      <td>261</td>\n",
       "      <td></td>\n",
       "      <td>False</td>\n",
       "      <td>0</td>\n",
       "      <td>626</td>\n",
       "      <td>2021-05-27 13:58:37</td>\n",
       "    </tr>\n",
       "    <tr>\n",
       "      <th>2</th>\n",
       "      <td>RT @Satirical_Dhruv: Without any degree I am a...</td>\n",
       "      <td>Vishal Dsouza</td>\n",
       "      <td>1717</td>\n",
       "      <td>7</td>\n",
       "      <td>Al Ain, United Arab Emirates</td>\n",
       "      <td>False</td>\n",
       "      <td>0</td>\n",
       "      <td>626</td>\n",
       "      <td>2021-05-27 13:58:08</td>\n",
       "    </tr>\n",
       "    <tr>\n",
       "      <th>3</th>\n",
       "      <td>@DevinderSolanki @hansrajhansHRH @BJP4Delhi @s...</td>\n",
       "      <td>Satbir Solanki</td>\n",
       "      <td>4003</td>\n",
       "      <td>149</td>\n",
       "      <td>कृष्ण विहार दिल्ली 86</td>\n",
       "      <td>False</td>\n",
       "      <td>0</td>\n",
       "      <td>0</td>\n",
       "      <td>2021-05-27 13:57:57</td>\n",
       "    </tr>\n",
       "    <tr>\n",
       "      <th>4</th>\n",
       "      <td>RT @Satirical_Dhruv: Without any degree I am a...</td>\n",
       "      <td>Saadiya ahmed</td>\n",
       "      <td>8381</td>\n",
       "      <td>263</td>\n",
       "      <td>Under The Sky</td>\n",
       "      <td>False</td>\n",
       "      <td>0</td>\n",
       "      <td>626</td>\n",
       "      <td>2021-05-27 13:57:51</td>\n",
       "    </tr>\n",
       "  </tbody>\n",
       "</table>\n",
       "</div>"
      ],
      "text/plain": [
       "                                              Tweets                User  \\\n",
       "0  RT @Satirical_Dhruv: Without any degree I am a...  Raju K Pahuchungia   \n",
       "1  RT @Satirical_Dhruv: Without any degree I am a...      @UnitedIndians   \n",
       "2  RT @Satirical_Dhruv: Without any degree I am a...       Vishal Dsouza   \n",
       "3  @DevinderSolanki @hansrajhansHRH @BJP4Delhi @s...      Satbir Solanki   \n",
       "4  RT @Satirical_Dhruv: Without any degree I am a...       Saadiya ahmed   \n",
       "\n",
       "  User_statuses_count user_followers                 User_location  \\\n",
       "0               13470            892                         India   \n",
       "1               41640            261                                 \n",
       "2                1717              7  Al Ain, United Arab Emirates   \n",
       "3                4003            149         कृष्ण विहार दिल्ली 86   \n",
       "4                8381            263                 Under The Sky   \n",
       "\n",
       "  User_verified fav_count rt_count           tweet_date  \n",
       "0         False         0      626  2021-05-27 13:59:14  \n",
       "1         False         0      626  2021-05-27 13:58:37  \n",
       "2         False         0      626  2021-05-27 13:58:08  \n",
       "3         False         0        0  2021-05-27 13:57:57  \n",
       "4         False         0      626  2021-05-27 13:57:51  "
      ]
     },
     "execution_count": 11,
     "metadata": {},
     "output_type": "execute_result"
    }
   ],
   "source": [
    "df.head()"
   ]
  },
  {
   "cell_type": "code",
   "execution_count": 12,
   "metadata": {},
   "outputs": [
    {
     "name": "stdout",
     "output_type": "stream",
     "text": [
      "Collecting textblob\n",
      "  Downloading textblob-0.15.3-py2.py3-none-any.whl (636 kB)\n",
      "Requirement already satisfied: nltk>=3.1 in c:\\programdata\\anaconda3\\lib\\site-packages (from textblob) (3.4.5)\n",
      "Requirement already satisfied: six in c:\\programdata\\anaconda3\\lib\\site-packages (from nltk>=3.1->textblob) (1.14.0)\n",
      "Installing collected packages: textblob\n",
      "Successfully installed textblob-0.15.3\n"
     ]
    }
   ],
   "source": [
    "!pip install textblob"
   ]
  },
  {
   "cell_type": "markdown",
   "metadata": {},
   "source": [
    "## Cleaning Tweets and analyzing using TextBlob"
   ]
  },
  {
   "cell_type": "code",
   "execution_count": 13,
   "metadata": {},
   "outputs": [],
   "source": [
    "from textblob import TextBlob"
   ]
  },
  {
   "cell_type": "code",
   "execution_count": 14,
   "metadata": {},
   "outputs": [],
   "source": [
    "import re\n",
    "def clean_tweet(tweet):\n",
    "    return ' '.join(re.sub('(@[A-Za-z0-9]+)|([^0-9A-Za-z \\t])|(\\w+:\\/\\/\\S+)', ' ', tweet).split())"
   ]
  },
  {
   "cell_type": "code",
   "execution_count": 15,
   "metadata": {},
   "outputs": [],
   "source": [
    "def analyze_sentiment(tweet):\n",
    "    analysis = TextBlob(tweet)\n",
    "    if analysis.sentiment.polarity > 0:\n",
    "        return 'Positive'\n",
    "    elif analysis.sentiment.polarity == 0:\n",
    "        return 'Neutral'\n",
    "    else:\n",
    "        return 'Negative'"
   ]
  },
  {
   "cell_type": "code",
   "execution_count": 16,
   "metadata": {},
   "outputs": [],
   "source": [
    "df['clean_tweet'] = df['Tweets'].apply(lambda x : clean_tweet(x))"
   ]
  },
  {
   "cell_type": "code",
   "execution_count": 17,
   "metadata": {},
   "outputs": [
    {
     "data": {
      "text/html": [
       "<div>\n",
       "<style scoped>\n",
       "    .dataframe tbody tr th:only-of-type {\n",
       "        vertical-align: middle;\n",
       "    }\n",
       "\n",
       "    .dataframe tbody tr th {\n",
       "        vertical-align: top;\n",
       "    }\n",
       "\n",
       "    .dataframe thead th {\n",
       "        text-align: right;\n",
       "    }\n",
       "</style>\n",
       "<table border=\"1\" class=\"dataframe\">\n",
       "  <thead>\n",
       "    <tr style=\"text-align: right;\">\n",
       "      <th></th>\n",
       "      <th>Tweets</th>\n",
       "      <th>User</th>\n",
       "      <th>User_statuses_count</th>\n",
       "      <th>user_followers</th>\n",
       "      <th>User_location</th>\n",
       "      <th>User_verified</th>\n",
       "      <th>fav_count</th>\n",
       "      <th>rt_count</th>\n",
       "      <th>tweet_date</th>\n",
       "      <th>clean_tweet</th>\n",
       "    </tr>\n",
       "  </thead>\n",
       "  <tbody>\n",
       "    <tr>\n",
       "      <th>0</th>\n",
       "      <td>RT @Satirical_Dhruv: Without any degree I am a...</td>\n",
       "      <td>Raju K Pahuchungia</td>\n",
       "      <td>13470</td>\n",
       "      <td>892</td>\n",
       "      <td>India</td>\n",
       "      <td>False</td>\n",
       "      <td>0</td>\n",
       "      <td>626</td>\n",
       "      <td>2021-05-27 13:59:14</td>\n",
       "      <td>RT Dhruv Without any degree I am a doctor Baba...</td>\n",
       "    </tr>\n",
       "    <tr>\n",
       "      <th>1</th>\n",
       "      <td>RT @Satirical_Dhruv: Without any degree I am a...</td>\n",
       "      <td>@UnitedIndians</td>\n",
       "      <td>41640</td>\n",
       "      <td>261</td>\n",
       "      <td></td>\n",
       "      <td>False</td>\n",
       "      <td>0</td>\n",
       "      <td>626</td>\n",
       "      <td>2021-05-27 13:58:37</td>\n",
       "      <td>RT Dhruv Without any degree I am a doctor Baba...</td>\n",
       "    </tr>\n",
       "    <tr>\n",
       "      <th>2</th>\n",
       "      <td>RT @Satirical_Dhruv: Without any degree I am a...</td>\n",
       "      <td>Vishal Dsouza</td>\n",
       "      <td>1717</td>\n",
       "      <td>7</td>\n",
       "      <td>Al Ain, United Arab Emirates</td>\n",
       "      <td>False</td>\n",
       "      <td>0</td>\n",
       "      <td>626</td>\n",
       "      <td>2021-05-27 13:58:08</td>\n",
       "      <td>RT Dhruv Without any degree I am a doctor Baba...</td>\n",
       "    </tr>\n",
       "    <tr>\n",
       "      <th>3</th>\n",
       "      <td>@DevinderSolanki @hansrajhansHRH @BJP4Delhi @s...</td>\n",
       "      <td>Satbir Solanki</td>\n",
       "      <td>4003</td>\n",
       "      <td>149</td>\n",
       "      <td>कृष्ण विहार दिल्ली 86</td>\n",
       "      <td>False</td>\n",
       "      <td>0</td>\n",
       "      <td>0</td>\n",
       "      <td>2021-05-27 13:57:57</td>\n",
       "      <td>Prime Minister of India India s Prime Minister...</td>\n",
       "    </tr>\n",
       "    <tr>\n",
       "      <th>4</th>\n",
       "      <td>RT @Satirical_Dhruv: Without any degree I am a...</td>\n",
       "      <td>Saadiya ahmed</td>\n",
       "      <td>8381</td>\n",
       "      <td>263</td>\n",
       "      <td>Under The Sky</td>\n",
       "      <td>False</td>\n",
       "      <td>0</td>\n",
       "      <td>626</td>\n",
       "      <td>2021-05-27 13:57:51</td>\n",
       "      <td>RT Dhruv Without any degree I am a doctor Baba...</td>\n",
       "    </tr>\n",
       "  </tbody>\n",
       "</table>\n",
       "</div>"
      ],
      "text/plain": [
       "                                              Tweets                User  \\\n",
       "0  RT @Satirical_Dhruv: Without any degree I am a...  Raju K Pahuchungia   \n",
       "1  RT @Satirical_Dhruv: Without any degree I am a...      @UnitedIndians   \n",
       "2  RT @Satirical_Dhruv: Without any degree I am a...       Vishal Dsouza   \n",
       "3  @DevinderSolanki @hansrajhansHRH @BJP4Delhi @s...      Satbir Solanki   \n",
       "4  RT @Satirical_Dhruv: Without any degree I am a...       Saadiya ahmed   \n",
       "\n",
       "  User_statuses_count user_followers                 User_location  \\\n",
       "0               13470            892                         India   \n",
       "1               41640            261                                 \n",
       "2                1717              7  Al Ain, United Arab Emirates   \n",
       "3                4003            149         कृष्ण विहार दिल्ली 86   \n",
       "4                8381            263                 Under The Sky   \n",
       "\n",
       "  User_verified fav_count rt_count           tweet_date  \\\n",
       "0         False         0      626  2021-05-27 13:59:14   \n",
       "1         False         0      626  2021-05-27 13:58:37   \n",
       "2         False         0      626  2021-05-27 13:58:08   \n",
       "3         False         0        0  2021-05-27 13:57:57   \n",
       "4         False         0      626  2021-05-27 13:57:51   \n",
       "\n",
       "                                         clean_tweet  \n",
       "0  RT Dhruv Without any degree I am a doctor Baba...  \n",
       "1  RT Dhruv Without any degree I am a doctor Baba...  \n",
       "2  RT Dhruv Without any degree I am a doctor Baba...  \n",
       "3  Prime Minister of India India s Prime Minister...  \n",
       "4  RT Dhruv Without any degree I am a doctor Baba...  "
      ]
     },
     "execution_count": 17,
     "metadata": {},
     "output_type": "execute_result"
    }
   ],
   "source": [
    "df.head()"
   ]
  },
  {
   "cell_type": "code",
   "execution_count": 18,
   "metadata": {},
   "outputs": [
    {
     "data": {
      "text/html": [
       "<div>\n",
       "<style scoped>\n",
       "    .dataframe tbody tr th:only-of-type {\n",
       "        vertical-align: middle;\n",
       "    }\n",
       "\n",
       "    .dataframe tbody tr th {\n",
       "        vertical-align: top;\n",
       "    }\n",
       "\n",
       "    .dataframe thead th {\n",
       "        text-align: right;\n",
       "    }\n",
       "</style>\n",
       "<table border=\"1\" class=\"dataframe\">\n",
       "  <thead>\n",
       "    <tr style=\"text-align: right;\">\n",
       "      <th></th>\n",
       "      <th>Tweets</th>\n",
       "      <th>User</th>\n",
       "      <th>User_statuses_count</th>\n",
       "      <th>user_followers</th>\n",
       "      <th>User_location</th>\n",
       "      <th>User_verified</th>\n",
       "      <th>fav_count</th>\n",
       "      <th>rt_count</th>\n",
       "      <th>tweet_date</th>\n",
       "      <th>clean_tweet</th>\n",
       "      <th>Sentiment</th>\n",
       "    </tr>\n",
       "  </thead>\n",
       "  <tbody>\n",
       "    <tr>\n",
       "      <th>0</th>\n",
       "      <td>RT @Satirical_Dhruv: Without any degree I am a...</td>\n",
       "      <td>Raju K Pahuchungia</td>\n",
       "      <td>13470</td>\n",
       "      <td>892</td>\n",
       "      <td>India</td>\n",
       "      <td>False</td>\n",
       "      <td>0</td>\n",
       "      <td>626</td>\n",
       "      <td>2021-05-27 13:59:14</td>\n",
       "      <td>RT Dhruv Without any degree I am a doctor Baba...</td>\n",
       "      <td>Neutral</td>\n",
       "    </tr>\n",
       "    <tr>\n",
       "      <th>1</th>\n",
       "      <td>RT @Satirical_Dhruv: Without any degree I am a...</td>\n",
       "      <td>@UnitedIndians</td>\n",
       "      <td>41640</td>\n",
       "      <td>261</td>\n",
       "      <td></td>\n",
       "      <td>False</td>\n",
       "      <td>0</td>\n",
       "      <td>626</td>\n",
       "      <td>2021-05-27 13:58:37</td>\n",
       "      <td>RT Dhruv Without any degree I am a doctor Baba...</td>\n",
       "      <td>Neutral</td>\n",
       "    </tr>\n",
       "    <tr>\n",
       "      <th>2</th>\n",
       "      <td>RT @Satirical_Dhruv: Without any degree I am a...</td>\n",
       "      <td>Vishal Dsouza</td>\n",
       "      <td>1717</td>\n",
       "      <td>7</td>\n",
       "      <td>Al Ain, United Arab Emirates</td>\n",
       "      <td>False</td>\n",
       "      <td>0</td>\n",
       "      <td>626</td>\n",
       "      <td>2021-05-27 13:58:08</td>\n",
       "      <td>RT Dhruv Without any degree I am a doctor Baba...</td>\n",
       "      <td>Neutral</td>\n",
       "    </tr>\n",
       "    <tr>\n",
       "      <th>3</th>\n",
       "      <td>@DevinderSolanki @hansrajhansHRH @BJP4Delhi @s...</td>\n",
       "      <td>Satbir Solanki</td>\n",
       "      <td>4003</td>\n",
       "      <td>149</td>\n",
       "      <td>कृष्ण विहार दिल्ली 86</td>\n",
       "      <td>False</td>\n",
       "      <td>0</td>\n",
       "      <td>0</td>\n",
       "      <td>2021-05-27 13:57:57</td>\n",
       "      <td>Prime Minister of India India s Prime Minister...</td>\n",
       "      <td>Neutral</td>\n",
       "    </tr>\n",
       "    <tr>\n",
       "      <th>4</th>\n",
       "      <td>RT @Satirical_Dhruv: Without any degree I am a...</td>\n",
       "      <td>Saadiya ahmed</td>\n",
       "      <td>8381</td>\n",
       "      <td>263</td>\n",
       "      <td>Under The Sky</td>\n",
       "      <td>False</td>\n",
       "      <td>0</td>\n",
       "      <td>626</td>\n",
       "      <td>2021-05-27 13:57:51</td>\n",
       "      <td>RT Dhruv Without any degree I am a doctor Baba...</td>\n",
       "      <td>Neutral</td>\n",
       "    </tr>\n",
       "  </tbody>\n",
       "</table>\n",
       "</div>"
      ],
      "text/plain": [
       "                                              Tweets                User  \\\n",
       "0  RT @Satirical_Dhruv: Without any degree I am a...  Raju K Pahuchungia   \n",
       "1  RT @Satirical_Dhruv: Without any degree I am a...      @UnitedIndians   \n",
       "2  RT @Satirical_Dhruv: Without any degree I am a...       Vishal Dsouza   \n",
       "3  @DevinderSolanki @hansrajhansHRH @BJP4Delhi @s...      Satbir Solanki   \n",
       "4  RT @Satirical_Dhruv: Without any degree I am a...       Saadiya ahmed   \n",
       "\n",
       "  User_statuses_count user_followers                 User_location  \\\n",
       "0               13470            892                         India   \n",
       "1               41640            261                                 \n",
       "2                1717              7  Al Ain, United Arab Emirates   \n",
       "3                4003            149         कृष्ण विहार दिल्ली 86   \n",
       "4                8381            263                 Under The Sky   \n",
       "\n",
       "  User_verified fav_count rt_count           tweet_date  \\\n",
       "0         False         0      626  2021-05-27 13:59:14   \n",
       "1         False         0      626  2021-05-27 13:58:37   \n",
       "2         False         0      626  2021-05-27 13:58:08   \n",
       "3         False         0        0  2021-05-27 13:57:57   \n",
       "4         False         0      626  2021-05-27 13:57:51   \n",
       "\n",
       "                                         clean_tweet Sentiment  \n",
       "0  RT Dhruv Without any degree I am a doctor Baba...   Neutral  \n",
       "1  RT Dhruv Without any degree I am a doctor Baba...   Neutral  \n",
       "2  RT Dhruv Without any degree I am a doctor Baba...   Neutral  \n",
       "3  Prime Minister of India India s Prime Minister...   Neutral  \n",
       "4  RT Dhruv Without any degree I am a doctor Baba...   Neutral  "
      ]
     },
     "execution_count": 18,
     "metadata": {},
     "output_type": "execute_result"
    }
   ],
   "source": [
    "df['Sentiment'] = df['clean_tweet'].apply(lambda x : analyze_sentiment(x) )\n",
    "df.head()"
   ]
  },
  {
   "cell_type": "code",
   "execution_count": 19,
   "metadata": {},
   "outputs": [
    {
     "data": {
      "text/plain": [
       "Tweets                 8\n",
       "User                   8\n",
       "User_statuses_count    8\n",
       "user_followers         8\n",
       "User_location          8\n",
       "User_verified          8\n",
       "fav_count              8\n",
       "rt_count               8\n",
       "tweet_date             8\n",
       "clean_tweet            8\n",
       "Sentiment              8\n",
       "dtype: int64"
      ]
     },
     "execution_count": 19,
     "metadata": {},
     "output_type": "execute_result"
    }
   ],
   "source": [
    "df[df['User_verified'] == True].count()"
   ]
  },
  {
   "cell_type": "code",
   "execution_count": 20,
   "metadata": {},
   "outputs": [
    {
     "name": "stdout",
     "output_type": "stream",
     "text": [
      "Original tweet:\n",
      " RT @Satirical_Dhruv: Without any degree I am a doctor - Baba Ramdev\n",
      "\n",
      "Without any degree I am union minister - Smriti Irani\n",
      "\n",
      "Without any deg…\n",
      "\n",
      "Clean tweet:\n",
      " RT Dhruv Without any degree I am a doctor Baba Ramdev Without any degree I am union minister Smriti Irani Without any deg\n",
      "\n",
      "Sentiment of the tweet:\n",
      " Neutral\n"
     ]
    }
   ],
   "source": [
    "n = 1\n",
    "print(\"Original tweet:\\n\",df['Tweets'][n])\n",
    "print()\n",
    "print(\"Clean tweet:\\n\",df['clean_tweet'][n])\n",
    "print()\n",
    "print(\"Sentiment of the tweet:\\n\",df['Sentiment'][n])"
   ]
  },
  {
   "cell_type": "code",
   "execution_count": 22,
   "metadata": {},
   "outputs": [
    {
     "name": "stdout",
     "output_type": "stream",
     "text": [
      "Original tweet:\n",
      " RT @Satirical_Dhruv: Without any degree I am a doctor - Baba Ramdev\n",
      "\n",
      "Without any degree I am union minister - Smriti Irani\n",
      "\n",
      "Without any deg…\n",
      "\n",
      "Clean tweet:\n",
      " RT Dhruv Without any degree I am a doctor Baba Ramdev Without any degree I am union minister Smriti Irani Without any deg\n",
      "\n",
      "Sentiment of the tweet:\n",
      " Neutral\n"
     ]
    }
   ],
   "source": [
    "n = 20\n",
    "print(\"Original tweet:\\n\",df['Tweets'][n])\n",
    "print()\n",
    "print(\"Clean tweet:\\n\",df['clean_tweet'][n])\n",
    "print()\n",
    "print(\"Sentiment of the tweet:\\n\",df['Sentiment'][n])"
   ]
  },
  {
   "cell_type": "code",
   "execution_count": 23,
   "metadata": {},
   "outputs": [
    {
     "name": "stdout",
     "output_type": "stream",
     "text": [
      "Original tweet:\n",
      " RT @PaulEDawson: “If more mining happens everything will change; the natural resources will be gone, our way of life will disappear, everyt…\n",
      "\n",
      "Clean tweet:\n",
      " RT If more mining happens everything will change the natural resources will be gone our way of life will disappear everyt\n",
      "\n",
      "Sentiment of the tweet:\n",
      " Positive\n"
     ]
    }
   ],
   "source": [
    "n = 203\n",
    "print(\"Original tweet:\\n\",df['Tweets'][n])\n",
    "print()\n",
    "print(\"Clean tweet:\\n\",df['clean_tweet'][n])\n",
    "print()\n",
    "print(\"Sentiment of the tweet:\\n\",df['Sentiment'][n])"
   ]
  },
  {
   "cell_type": "code",
   "execution_count": 24,
   "metadata": {},
   "outputs": [
    {
     "data": {
      "text/plain": [
       "177"
      ]
     },
     "execution_count": 24,
     "metadata": {},
     "output_type": "execute_result"
    }
   ],
   "source": [
    "df[df.Sentiment == 'Positive'].shape[0]"
   ]
  },
  {
   "cell_type": "code",
   "execution_count": 25,
   "metadata": {},
   "outputs": [
    {
     "data": {
      "text/plain": [
       "815"
      ]
     },
     "execution_count": 25,
     "metadata": {},
     "output_type": "execute_result"
    }
   ],
   "source": [
    "df[df.Sentiment == 'Neutral'].shape[0]"
   ]
  },
  {
   "cell_type": "code",
   "execution_count": 26,
   "metadata": {},
   "outputs": [
    {
     "data": {
      "text/plain": [
       "8"
      ]
     },
     "execution_count": 26,
     "metadata": {},
     "output_type": "execute_result"
    }
   ],
   "source": [
    "df[df.Sentiment == 'Negative'].shape[0]"
   ]
  },
  {
   "cell_type": "code",
   "execution_count": null,
   "metadata": {},
   "outputs": [],
   "source": []
  }
 ],
 "metadata": {
  "kernelspec": {
   "display_name": "Python 3",
   "language": "python",
   "name": "python3"
  },
  "language_info": {
   "codemirror_mode": {
    "name": "ipython",
    "version": 3
   },
   "file_extension": ".py",
   "mimetype": "text/x-python",
   "name": "python",
   "nbconvert_exporter": "python",
   "pygments_lexer": "ipython3",
   "version": "3.7.6"
  }
 },
 "nbformat": 4,
 "nbformat_minor": 4
}
