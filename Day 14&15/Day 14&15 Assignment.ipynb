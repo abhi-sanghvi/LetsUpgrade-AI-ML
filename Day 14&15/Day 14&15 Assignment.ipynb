{
 "cells": [
  {
   "cell_type": "markdown",
   "metadata": {},
   "source": [
    "# QUESTION 1"
   ]
  },
  {
   "cell_type": "code",
   "execution_count": 1,
   "metadata": {},
   "outputs": [
    {
     "data": {
      "text/plain": [
       "array([[[0.79122017, 0.40186074, 0.70801991],\n",
       "        [0.53356392, 0.52786627, 0.27417493],\n",
       "        [0.36703368, 0.87578386, 0.58446291]],\n",
       "\n",
       "       [[0.61703027, 0.15202521, 0.49776715],\n",
       "        [0.11081315, 0.1385543 , 0.46540857],\n",
       "        [0.11013453, 0.32915272, 0.67277767]],\n",
       "\n",
       "       [[0.09312904, 0.78103398, 0.26548237],\n",
       "        [0.43091386, 0.82649807, 0.39164058],\n",
       "        [0.93610728, 0.19634105, 0.7782679 ]]])"
      ]
     },
     "execution_count": 1,
     "metadata": {},
     "output_type": "execute_result"
    }
   ],
   "source": [
    "import numpy as np\n",
    "\n",
    "np.random.rand(3,3,3)"
   ]
  },
  {
   "cell_type": "markdown",
   "metadata": {},
   "source": [
    "# QUESTION 2"
   ]
  },
  {
   "cell_type": "code",
   "execution_count": 2,
   "metadata": {},
   "outputs": [
    {
     "data": {
      "text/plain": [
       "array([[0, 0, 0, 0, 0],\n",
       "       [1, 0, 0, 0, 0],\n",
       "       [0, 2, 0, 0, 0],\n",
       "       [0, 0, 3, 0, 0],\n",
       "       [0, 0, 0, 4, 0]])"
      ]
     },
     "execution_count": 2,
     "metadata": {},
     "output_type": "execute_result"
    }
   ],
   "source": [
    "np.diag(np.arange(1,5), k=-1)"
   ]
  },
  {
   "cell_type": "markdown",
   "metadata": {},
   "source": [
    "# QUESTION 3"
   ]
  },
  {
   "cell_type": "code",
   "execution_count": 3,
   "metadata": {},
   "outputs": [
    {
     "data": {
      "text/plain": [
       "array([[1., 0., 1., 0., 1., 0., 1., 0.],\n",
       "       [0., 1., 0., 1., 0., 1., 0., 1.],\n",
       "       [1., 0., 1., 0., 1., 0., 1., 0.],\n",
       "       [0., 1., 0., 1., 0., 1., 0., 1.],\n",
       "       [1., 0., 1., 0., 1., 0., 1., 0.],\n",
       "       [0., 1., 0., 1., 0., 1., 0., 1.],\n",
       "       [1., 0., 1., 0., 1., 0., 1., 0.],\n",
       "       [0., 1., 0., 1., 0., 1., 0., 1.]])"
      ]
     },
     "execution_count": 3,
     "metadata": {},
     "output_type": "execute_result"
    }
   ],
   "source": [
    "a = np.ones((8,8))\n",
    "a[1::2,::2] = 0\n",
    "a[::2,1::2] = 0\n",
    "a"
   ]
  },
  {
   "cell_type": "markdown",
   "metadata": {},
   "source": [
    "# QUESTION 4"
   ]
  },
  {
   "cell_type": "code",
   "execution_count": 7,
   "metadata": {},
   "outputs": [
    {
     "name": "stdout",
     "output_type": "stream",
     "text": [
      "Original Array:\n",
      "[[31 23 25 46 33]\n",
      " [39 13 44 42 20]\n",
      " [31 40 43 46 49]\n",
      " [46 15 24 34 45]\n",
      " [39 40 39 27 16]]\n",
      "After normalization:\n",
      "[[0.5        0.27777778 0.33333333 0.91666667 0.55555556]\n",
      " [0.72222222 0.         0.86111111 0.80555556 0.19444444]\n",
      " [0.5        0.75       0.83333333 0.91666667 1.        ]\n",
      " [0.91666667 0.05555556 0.30555556 0.58333333 0.88888889]\n",
      " [0.72222222 0.75       0.72222222 0.38888889 0.08333333]]\n"
     ]
    }
   ],
   "source": [
    "a = np.random.randint(10,50,size=(5,5))\n",
    "print(\"Original Array:\")\n",
    "print(a)\n",
    "amax, amin = a.max(), a.min()\n",
    "a = (a - amin)/(amax - amin)\n",
    "print(\"After normalization:\")\n",
    "print(a)"
   ]
  },
  {
   "cell_type": "markdown",
   "metadata": {},
   "source": [
    "# QUESTION 5"
   ]
  },
  {
   "cell_type": "code",
   "execution_count": 10,
   "metadata": {},
   "outputs": [
    {
     "name": "stdout",
     "output_type": "stream",
     "text": [
      "1st array :-\n",
      "[1 2 3 4 5]\n",
      "2nd array :-\n",
      "[ 2  4  6  8 10]\n",
      "Common values between two arrays :-\n",
      "[2 4]\n"
     ]
    }
   ],
   "source": [
    "f=np.array([1,2,3,4,5])\n",
    "print(\"1st array :-\")\n",
    "print(f)\n",
    "g=np.array([2,4,6,8,10])\n",
    "print(\"2nd array :-\")\n",
    "print(g)\n",
    "com_values=np.intersect1d(f,g)\n",
    "print(\"Common values between two arrays :-\")\n",
    "print(com_values)"
   ]
  },
  {
   "cell_type": "markdown",
   "metadata": {},
   "source": [
    "# QUESTION 6"
   ]
  },
  {
   "cell_type": "code",
   "execution_count": 9,
   "metadata": {},
   "outputs": [
    {
     "name": "stdout",
     "output_type": "stream",
     "text": [
      "Date yesterday: 2020-07-25\n",
      "Date today    : 2020-07-26\n",
      "Date tomorrow : 2020-07-27\n"
     ]
    }
   ],
   "source": [
    "print(\"Date yesterday:\", np.datetime64('today') - np.timedelta64(1, 'D'))\n",
    "print(\"Date today    :\", np.datetime64('today'))\n",
    "print(\"Date tomorrow :\", np.datetime64('today') + np.timedelta64(1, 'D'))"
   ]
  },
  {
   "cell_type": "markdown",
   "metadata": {},
   "source": [
    "# QUESTION 7"
   ]
  },
  {
   "cell_type": "code",
   "execution_count": 12,
   "metadata": {},
   "outputs": [
    {
     "name": "stdout",
     "output_type": "stream",
     "text": [
      "Are the two arrays equal :-  False\n"
     ]
    }
   ],
   "source": [
    "x = np.array([1,2,3])\n",
    "y = np.array([4,5,6])\n",
    "print('Are the two arrays equal :- ',np.array_equal(x,y))"
   ]
  },
  {
   "cell_type": "code",
   "execution_count": 13,
   "metadata": {},
   "outputs": [
    {
     "name": "stdout",
     "output_type": "stream",
     "text": [
      "Are the two arrays equal :-  True\n"
     ]
    }
   ],
   "source": [
    "m = np.array([1,2,3])\n",
    "n = np.array([1,2,3])\n",
    "print('Are the two arrays equal :- ',np.array_equal(m,n))"
   ]
  },
  {
   "cell_type": "markdown",
   "metadata": {},
   "source": [
    "# QUESTION 8"
   ]
  },
  {
   "cell_type": "code",
   "execution_count": 22,
   "metadata": {},
   "outputs": [
    {
     "name": "stdout",
     "output_type": "stream",
     "text": [
      "Original Array :- \n",
      "[[-0.32596162]\n",
      " [ 1.06391942]\n",
      " [ 0.33173778]\n",
      " [ 0.23984388]\n",
      " [-0.41196146]\n",
      " [ 2.16418272]\n",
      " [ 1.72132171]\n",
      " [-0.86041861]\n",
      " [-0.05304817]\n",
      " [ 0.56699106]]\n",
      "After replacing maximum value by 0 :-\n",
      "[[-0.32596162]\n",
      " [ 1.06391942]\n",
      " [ 0.33173778]\n",
      " [ 0.23984388]\n",
      " [-0.41196146]\n",
      " [ 0.        ]\n",
      " [ 1.72132171]\n",
      " [-0.86041861]\n",
      " [-0.05304817]\n",
      " [ 0.56699106]]\n"
     ]
    }
   ],
   "source": [
    "a = np.random.randn(10,1)\n",
    "print('Original Array :- ')\n",
    "print(a)\n",
    "a[a == a.max()] = 0\n",
    "print('After replacing maximum value by 0 :-')\n",
    "print(a)"
   ]
  },
  {
   "cell_type": "markdown",
   "metadata": {},
   "source": [
    "# QUESTION 9"
   ]
  },
  {
   "cell_type": "code",
   "execution_count": 26,
   "metadata": {},
   "outputs": [
    {
     "name": "stdout",
     "output_type": "stream",
     "text": [
      "[[ 1.49973622  0.66821674  1.18433716  0.21467392 -1.6069926 ]\n",
      " [ 0.47323223  0.21508137 -0.6363411  -1.61474173  2.34223874]\n",
      " [-0.56409102 -0.88934947  0.18253626  1.53009048  0.96155976]]\n",
      "[ 1.49973622  0.66821674  1.18433716  0.21467392 -1.6069926 ]\n",
      "[ 0.47323223  0.21508137 -0.6363411  -1.61474173  2.34223874]\n",
      "[-0.56409102 -0.88934947  0.18253626  1.53009048  0.96155976]\n"
     ]
    }
   ],
   "source": [
    "l=np.random.randn(3,5)\n",
    "print(l)\n",
    "for i in range(len(l)):\n",
    "    print(l[i])"
   ]
  },
  {
   "cell_type": "markdown",
   "metadata": {},
   "source": [
    "# QUESTION 10"
   ]
  },
  {
   "cell_type": "code",
   "execution_count": 27,
   "metadata": {},
   "outputs": [
    {
     "name": "stdout",
     "output_type": "stream",
     "text": [
      "[[-0.88036953  0.52945082 -0.64361661]\n",
      " [ 0.78423444 -0.49723083  2.51633957]\n",
      " [ 0.00441196 -1.25951442 -1.7847509 ]]\n",
      "[-0.33151177  0.93444773 -1.01328445]\n",
      "[[-0.54885776 -0.40499691  0.36966785]\n",
      " [ 1.11574621 -1.43167855  3.52962402]\n",
      " [ 0.33592373 -2.19396215 -0.77146644]]\n"
     ]
    }
   ],
   "source": [
    "arr=np.random.randn(3,3)\n",
    "print(arr)\n",
    "arr1=np.mean(arr,axis=1)\n",
    "print(arr1)\n",
    "arr2=arr-arr1\n",
    "print(arr2)"
   ]
  },
  {
   "cell_type": "markdown",
   "metadata": {},
   "source": [
    "# QUESTION 11"
   ]
  },
  {
   "cell_type": "code",
   "execution_count": 30,
   "metadata": {},
   "outputs": [
    {
     "name": "stdout",
     "output_type": "stream",
     "text": [
      "[[ 0.1563933 ]\n",
      " [ 1.00178154]\n",
      " [ 1.45730219]\n",
      " [ 0.61943204]\n",
      " [-2.00478716]\n",
      " [-0.44697143]\n",
      " [ 0.08368805]\n",
      " [ 1.77308629]\n",
      " [-0.20806647]\n",
      " [ 0.50796768]]\n",
      "[5 6 2 5]\n",
      "[[ 0.1563933 ]\n",
      " [ 1.00178154]\n",
      " [ 2.45730219]\n",
      " [ 0.61943204]\n",
      " [-2.00478716]\n",
      " [ 1.55302857]\n",
      " [ 1.08368805]\n",
      " [ 1.77308629]\n",
      " [-0.20806647]\n",
      " [ 0.50796768]]\n"
     ]
    }
   ],
   "source": [
    "Z = np.random.randn(10,1)\n",
    "print(Z)\n",
    "I=np.random.randint(0,len(Z),4)\n",
    "print(I)\n",
    "np.add.at(Z,I,1)\n",
    "print(Z)"
   ]
  },
  {
   "cell_type": "markdown",
   "metadata": {},
   "source": [
    "# QUESTION 12"
   ]
  },
  {
   "cell_type": "code",
   "execution_count": 31,
   "metadata": {},
   "outputs": [
    {
     "name": "stdout",
     "output_type": "stream",
     "text": [
      "Frist array :-\n",
      "[[ 0.29618256  0.45123601 -0.89933649]\n",
      " [ 1.42140994 -0.00455723 -0.84372539]\n",
      " [ 1.5292807  -1.33461704  0.08869672]]\n",
      "Second array :-\n",
      "[[ 0.09177167 -0.08857866 -0.80140842]\n",
      " [ 0.61699072  0.03118614 -0.62885955]\n",
      " [ 0.38345038  1.33896398  0.24637952]]\n",
      "Dot product :-\n",
      "[[-0.03926132 -1.21634231 -0.74270537]\n",
      " [-0.19589342 -1.25576662 -1.34414069]\n",
      " [-0.64909088 -0.05832148 -0.36443871]]\n",
      "Diagonal element of Dot Product :-\n",
      "[-0.03926132 -1.25576662 -0.36443871]\n"
     ]
    }
   ],
   "source": [
    "u=np.random.randn(3,3)\n",
    "print('Frist array :-')\n",
    "print(u)\n",
    "v=np.random.randn(3,3)\n",
    "print('Second array :-')\n",
    "print(v)\n",
    "w=np.dot(u,v)\n",
    "print('Dot product :-')\n",
    "print(w)\n",
    "z=np.diag(w)\n",
    "print('Diagonal element of Dot Product :-')\n",
    "print(z)"
   ]
  },
  {
   "cell_type": "markdown",
   "metadata": {},
   "source": [
    "# QUESTION 13"
   ]
  },
  {
   "cell_type": "code",
   "execution_count": 33,
   "metadata": {},
   "outputs": [
    {
     "data": {
      "text/plain": [
       "5"
      ]
     },
     "execution_count": 33,
     "metadata": {},
     "output_type": "execute_result"
    }
   ],
   "source": [
    "a=np.array([1,5,3,5,7,6,1,5,8,4,5,9,5])\n",
    "np.argmax(np.bincount(a))"
   ]
  },
  {
   "cell_type": "markdown",
   "metadata": {},
   "source": [
    "# QUESTION 14"
   ]
  },
  {
   "cell_type": "code",
   "execution_count": 34,
   "metadata": {},
   "outputs": [
    {
     "name": "stdout",
     "output_type": "stream",
     "text": [
      "[70 71 72 73 74]\n"
     ]
    }
   ],
   "source": [
    "x = np.arange(75)\n",
    "np.random.shuffle(x)\n",
    "n = 5\n",
    "print (x[np.argsort(x)[-n:]])"
   ]
  },
  {
   "cell_type": "markdown",
   "metadata": {},
   "source": [
    "# QUESTION 15"
   ]
  },
  {
   "cell_type": "code",
   "execution_count": 35,
   "metadata": {},
   "outputs": [
    {
     "name": "stdout",
     "output_type": "stream",
     "text": [
      "Regular array : \n",
      " [['LetsUpgrade' '10' '15.5']\n",
      " ['AI-ML' '20' '30.75']]\n",
      "Record array : \n",
      " [(-0.88036953,  0.52945082, -0.64361661)\n",
      " ( 0.78423444, -0.49723083,  2.51633957)\n",
      " ( 0.00441196, -1.25951442, -1.7847509 )]\n"
     ]
    }
   ],
   "source": [
    "array = np.array([(\"LetsUpgrade\", 10, 15.50),\n",
    "              (\"AI-ML\", 20, 30.75)])\n",
    "rec = np.core.records.fromarrays(arr.T, names='col1, col2, col3')\n",
    "print(\"Regular array : \\n\",array)\n",
    "print(\"Record array : \\n\",rec)"
   ]
  },
  {
   "cell_type": "code",
   "execution_count": null,
   "metadata": {},
   "outputs": [],
   "source": []
  }
 ],
 "metadata": {
  "kernelspec": {
   "display_name": "Python 3",
   "language": "python",
   "name": "python3"
  },
  "language_info": {
   "codemirror_mode": {
    "name": "ipython",
    "version": 3
   },
   "file_extension": ".py",
   "mimetype": "text/x-python",
   "name": "python",
   "nbconvert_exporter": "python",
   "pygments_lexer": "ipython3",
   "version": "3.7.6"
  }
 },
 "nbformat": 4,
 "nbformat_minor": 4
}
