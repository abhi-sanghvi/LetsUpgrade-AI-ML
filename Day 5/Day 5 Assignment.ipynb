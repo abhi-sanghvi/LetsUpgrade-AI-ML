{
 "cells": [
  {
   "cell_type": "markdown",
   "metadata": {},
   "source": [
    "# Question 1"
   ]
  },
  {
   "cell_type": "code",
   "execution_count": 18,
   "metadata": {},
   "outputs": [
    {
     "name": "stdout",
     "output_type": "stream",
     "text": [
      "The first 20\n",
      "prime numbers\n",
      "3\n",
      "5\n",
      "7\n",
      "11\n",
      "13\n",
      "17\n",
      "19\n",
      "23\n",
      "29\n",
      "31\n",
      "37\n",
      "41\n",
      "43\n",
      "47\n",
      "53\n",
      "59\n",
      "61\n",
      "67\n",
      "71\n",
      "73\n"
     ]
    }
   ],
   "source": [
    "s = int(input(\"The first \"))\n",
    "\n",
    "print('prime numbers')\n",
    "\n",
    "a=0\n",
    "num=0\n",
    "while a != s:\n",
    "    if num>1:\n",
    "        for i in range(2,num):\n",
    "            if (num % i)==0:\n",
    "                break\n",
    "        else:\n",
    "            if num%2 != 0:\n",
    "                print(num)\n",
    "                a=a+1\n",
    "    num +=1"
   ]
  },
  {
   "cell_type": "markdown",
   "metadata": {},
   "source": [
    "# Question 2"
   ]
  },
  {
   "cell_type": "code",
   "execution_count": 41,
   "metadata": {},
   "outputs": [
    {
     "name": "stdout",
     "output_type": "stream",
     "text": [
      "False\n",
      "False\n",
      "aBHI sANGHVI\n",
      "ABHI SANGHVI\n",
      "abhi sanghvi\n",
      "Abhi Sanghvi\n",
      "False\n",
      "['Abhi', 'Sanghvi']\n",
      "False\n",
      "3\n",
      "2\n",
      "False\n",
      "False\n",
      "True\n",
      "False\n",
      "False\n",
      "True\n",
      "False\n",
      "True\n"
     ]
    }
   ],
   "source": [
    "string = \"Abhi Sanghvi\"\n",
    "\n",
    "print(string.islower())\n",
    "print(string.isupper())\n",
    "print(string.swapcase())\n",
    "print(string.upper())\n",
    "print(string.lower())\n",
    "print(string.title())\n",
    "print(string.isspace())\n",
    "print(string.split())\n",
    "print(string.isalpha())\n",
    "print(string.find('i'))\n",
    "print(string.index('h'))\n",
    "print(string.isupper(\t))\n",
    "print(string.isalpha())\n",
    "\n",
    "string_1 = \"abhi20sanghvi\"\n",
    "print(string_1.isalnum())\n",
    "print(string_1.isdigit(\t))\n",
    "print(string_1.isupper(\t))\n",
    "print(string_1.endswith('hvi'))\n",
    "print(string_1.isalpha())\n",
    "\n",
    "string_2 = \"683548646\"\n",
    "print(string_2.isdigit())\n",
    "\n",
    "\n",
    "\n"
   ]
  },
  {
   "cell_type": "markdown",
   "metadata": {},
   "source": [
    "# Question 3"
   ]
  },
  {
   "cell_type": "markdown",
   "metadata": {},
   "source": [
    "## separate codes for palindrome and anargams"
   ]
  },
  {
   "cell_type": "code",
   "execution_count": 2,
   "metadata": {},
   "outputs": [
    {
     "name": "stdout",
     "output_type": "stream",
     "text": [
      "Type the word: dog\n",
      "The given string is not Palindrome.\n"
     ]
    }
   ],
   "source": [
    "# is the string a palindrome\n",
    "def isPalindrome(s):\n",
    "    return s==s[::-1]\n",
    "\n",
    "s= input('Type the word: ')\n",
    "ans=isPalindrome(s)\n",
    "if ans:\n",
    "    print('The given string is Palindrome.')\n",
    "else:\n",
    "    print('The given string is not Palindrome.')"
   ]
  },
  {
   "cell_type": "code",
   "execution_count": 8,
   "metadata": {},
   "outputs": [
    {
     "name": "stdout",
     "output_type": "stream",
     "text": [
      "First word: listen\n",
      "Second word: silent\n",
      "The strings are anagrams.\n"
     ]
    }
   ],
   "source": [
    "# are the two strings anagrams\n",
    "def check(s1,s2):\n",
    "    if(sorted(s1)==sorted(s2)):\n",
    "        print('The strings are anagrams.')\n",
    "    else:\n",
    "        print('The strings are not anagrams.')\n",
    "    \n",
    "s1=input('First word: ')\n",
    "s2=input('Second word: ')\n",
    "check(s1,s2)"
   ]
  },
  {
   "cell_type": "markdown",
   "metadata": {},
   "source": [
    "## palindrome and anargams in one code"
   ]
  },
  {
   "cell_type": "code",
   "execution_count": 45,
   "metadata": {},
   "outputs": [
    {
     "name": "stdout",
     "output_type": "stream",
     "text": [
      "First string: gfb\n",
      "Second string: fgfd\n",
      "None of them\n"
     ]
    }
   ],
   "source": [
    "\n",
    "def check(s1,s2):\n",
    "    if(s1==s1[::-1]):\n",
    "        print('The s1 string is a palindrome')\n",
    "    if(s2==s2[::-1]):\n",
    "        print('The s2 string is a palindrome')\n",
    "    if(sorted(s1)==sorted(s2)):\n",
    "        print('The strings are anagrams.')\n",
    "    if((sorted(s1)!=sorted(s2))and(s1!=s1[::-1])and(s2!=s2[::-1])):\n",
    "       print('None of them')\n",
    "    \n",
    "s1=input('First string: ')\n",
    "s2=input('Second string: ')\n",
    "check(s1,s2)"
   ]
  },
  {
   "cell_type": "markdown",
   "metadata": {},
   "source": [
    "# Question 4"
   ]
  },
  {
   "cell_type": "code",
   "execution_count": 46,
   "metadata": {},
   "outputs": [
    {
     "name": "stdout",
     "output_type": "stream",
     "text": [
      "Before removing unwanted characters:  Dr. Darshan Ingle @AI-ML Trainer\n",
      "After removing unwanted characters:  drdarshaningleaimltrainer\n"
     ]
    }
   ],
   "source": [
    "given_string= \"Dr. Darshan Ingle @AI-ML Trainer\"\n",
    "\n",
    "print('Before removing unwanted characters: ',given_string)\n",
    "\n",
    "unwanted_chars = ['.','@','-',' ',':',';','?']\n",
    "\n",
    "for i in unwanted_chars:\n",
    "    given_string = given_string.replace(i,'')\n",
    "\n",
    "print('After removing unwanted characters: ',given_string.lower())\n",
    "    "
   ]
  },
  {
   "cell_type": "code",
   "execution_count": null,
   "metadata": {},
   "outputs": [],
   "source": []
  }
 ],
 "metadata": {
  "kernelspec": {
   "display_name": "Python 3",
   "language": "python",
   "name": "python3"
  },
  "language_info": {
   "codemirror_mode": {
    "name": "ipython",
    "version": 3
   },
   "file_extension": ".py",
   "mimetype": "text/x-python",
   "name": "python",
   "nbconvert_exporter": "python",
   "pygments_lexer": "ipython3",
   "version": "3.7.6"
  }
 },
 "nbformat": 4,
 "nbformat_minor": 4
}
