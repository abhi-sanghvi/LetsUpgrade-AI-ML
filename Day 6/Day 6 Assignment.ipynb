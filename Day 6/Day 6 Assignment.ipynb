{
 "cells": [
  {
   "cell_type": "markdown",
   "metadata": {},
   "source": [
    "# Question 1"
   ]
  },
  {
   "cell_type": "code",
   "execution_count": 10,
   "metadata": {},
   "outputs": [
    {
     "name": "stdout",
     "output_type": "stream",
     "text": [
      "Email: abhi@xyz.com\n",
      "Company Name:  xyz\n"
     ]
    }
   ],
   "source": [
    "def email(args):\n",
    "    str1 = args\n",
    "    x = str1.partition('@')\n",
    "    y = x[2].partition('.')\n",
    "    print('Company Name: ',y[0])\n",
    "    \n",
    "email(input('Email: '))"
   ]
  },
  {
   "cell_type": "markdown",
   "metadata": {},
   "source": [
    "# Question 2"
   ]
  },
  {
   "cell_type": "code",
   "execution_count": 2,
   "metadata": {},
   "outputs": [
    {
     "name": "stdout",
     "output_type": "stream",
     "text": [
      "Comma separated sequence of words: without,hello,bag,world\n",
      "Sorted words separated by the comma:  bag,hello,without,world\n"
     ]
    }
   ],
   "source": [
    "items = input('Comma separated sequence of words: ')\n",
    "words = [word for word in items.split(',')]\n",
    "print('Sorted words separated by the comma: ',','.join(sorted(list(set(words)))))"
   ]
  },
  {
   "cell_type": "markdown",
   "metadata": {},
   "source": [
    "# Question 4"
   ]
  },
  {
   "cell_type": "code",
   "execution_count": 16,
   "metadata": {},
   "outputs": [
    {
     "name": "stdout",
     "output_type": "stream",
     "text": [
      "[5]\n"
     ]
    }
   ],
   "source": [
    "def find_missing(lst):\n",
    "    return[x for x in range(lst[0],lst[-1]+1) if x not in lst]\n",
    "lst = [1,2,3,4,6,7,8,9]\n",
    "print(find_missing(lst))"
   ]
  },
  {
   "cell_type": "markdown",
   "metadata": {},
   "source": [
    "# Question 5"
   ]
  },
  {
   "cell_type": "code",
   "execution_count": 2,
   "metadata": {},
   "outputs": [
    {
     "name": "stdout",
     "output_type": "stream",
     "text": [
      "12 24 35 24 88 120 155 88 120 155\n",
      "12 24 35 88 120 155\n"
     ]
    }
   ],
   "source": [
    "s1 = list(map(int, input().strip().split()))\n",
    "x = sorted(set(s1))\n",
    "x = list(map(str, x))\n",
    "\n",
    "print(' '.join(x))"
   ]
  }
 ],
 "metadata": {
  "kernelspec": {
   "display_name": "Python 3",
   "language": "python",
   "name": "python3"
  },
  "language_info": {
   "codemirror_mode": {
    "name": "ipython",
    "version": 3
   },
   "file_extension": ".py",
   "mimetype": "text/x-python",
   "name": "python",
   "nbconvert_exporter": "python",
   "pygments_lexer": "ipython3",
   "version": "3.7.6"
  }
 },
 "nbformat": 4,
 "nbformat_minor": 4
}
